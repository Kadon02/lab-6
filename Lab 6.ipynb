{
 "cells": [
  {
   "cell_type": "code",
   "execution_count": 1,
   "id": "bde3f08a",
   "metadata": {},
   "outputs": [
    {
     "name": "stdout",
     "output_type": "stream",
     "text": [
      "dQ =  2\n"
     ]
    }
   ],
   "source": [
    "import numpy as np\n",
    "\n",
    "def Rule1(dA,c):\n",
    "    dQ = c*dA\n",
    "    return dQ\n",
    "dA = 2\n",
    "c = 1\n",
    "dQ = Rule1(dA,c)\n",
    "print (\"dQ = \",dQ)"
   ]
  },
  {
   "cell_type": "code",
   "execution_count": 1,
   "id": "5fa53d68",
   "metadata": {},
   "outputs": [
    {
     "name": "stdout",
     "output_type": "stream",
     "text": [
      "dQ =  322\n"
     ]
    }
   ],
   "source": [
    "import numpy as np\n",
    "\n",
    "def Rule2(dA,A,c,m):\n",
    "    dQ = c*m*A**m-1*dA\n",
    "    return dQ\n",
    "dA = 2\n",
    "A = 3\n",
    "c = 1\n",
    "m = 4\n",
    "dQ = Rule2(dA,A,c,m)\n",
    "print (\"dQ = \", dQ)"
   ]
  },
  {
   "cell_type": "code",
   "execution_count": 2,
   "id": "63e9b34c",
   "metadata": {},
   "outputs": [
    {
     "name": "stdout",
     "output_type": "stream",
     "text": [
      "dQ =  4.47213595499958\n"
     ]
    }
   ],
   "source": [
    "import numpy as np\n",
    "\n",
    "def Rule3(dA,dB):\n",
    "    dQ = np.sqrt(dA**2+dB**2)\n",
    "    return dQ\n",
    "dA = 2\n",
    "dB = 4\n",
    "dQ = Rule3(dA,dB)\n",
    "print (\"dQ = \", dQ)"
   ]
  },
  {
   "cell_type": "code",
   "execution_count": 2,
   "id": "cf7b9b06",
   "metadata": {},
   "outputs": [
    {
     "name": "stdout",
     "output_type": "stream",
     "text": [
      "dQ =  1.0965856099730655\n"
     ]
    }
   ],
   "source": [
    "import numpy as np\n",
    "\n",
    "def Rule4(dA,dB,m,n,A,B):\n",
    "    dQ = np.sqrt(((m*dA)/A)**2 + ((n*dB)/B)**2)\n",
    "    return dQ\n",
    "dA = 1\n",
    "dB = 2\n",
    "m = 3\n",
    "n = 2\n",
    "A = 4\n",
    "B = 5\n",
    "dQ = Rule4(dA,dB,m,n,A,B)\n",
    "print (\"dQ = \",dQ)\n"
   ]
  },
  {
   "cell_type": "code",
   "execution_count": 10,
   "id": "5fca005f",
   "metadata": {},
   "outputs": [
    {
     "name": "stdout",
     "output_type": "stream",
     "text": [
      "dVi =  5.711975671959061e-06\n"
     ]
    }
   ],
   "source": [
    "import numpy as np\n",
    "\n",
    "def dVi(Vi,dx,x,dy,y):\n",
    "    dVi = Vi*((dx**2/x)+(dy**2/y))\n",
    "    return dVi\n",
    "Vi = 3.457\n",
    "dx = .001\n",
    "x = 1.5547\n",
    "dy = .001\n",
    "y = .991\n",
    "dVi = dVi(Vi,dx,x,dy,y)\n",
    "print (\"dVi = \", dVi)\n"
   ]
  },
  {
   "cell_type": "code",
   "execution_count": 17,
   "id": "ea4f8eb6",
   "metadata": {},
   "outputs": [],
   "source": [
    "import numpy as np\n",
    "\n",
    "array = np.array([0.9,0.95,1.1,1.3,1.4])\n",
    "std = np.std(array)\n",
    "print = (\"std = \", x)"
   ]
  },
  {
   "cell_type": "code",
   "execution_count": 21,
   "id": "4c08246e",
   "metadata": {
    "scrolled": true
   },
   "outputs": [
    {
     "ename": "TypeError",
     "evalue": "'tuple' object is not callable",
     "output_type": "error",
     "traceback": [
      "\u001b[0;31m---------------------------------------------------------------------------\u001b[0m",
      "\u001b[0;31mTypeError\u001b[0m                                 Traceback (most recent call last)",
      "Input \u001b[0;32mIn [21]\u001b[0m, in \u001b[0;36m<cell line: 5>\u001b[0;34m()\u001b[0m\n\u001b[1;32m      3\u001b[0m np\u001b[38;5;241m.\u001b[39marray([\u001b[38;5;241m0.9\u001b[39m,\u001b[38;5;241m0.95\u001b[39m,\u001b[38;5;241m1.1\u001b[39m,\u001b[38;5;241m1.3\u001b[39m,\u001b[38;5;241m1.4\u001b[39m])\n\u001b[1;32m      4\u001b[0m avgx \u001b[38;5;241m=\u001b[39m np\u001b[38;5;241m.\u001b[39maverage(avg)\n\u001b[0;32m----> 5\u001b[0m \u001b[38;5;28;43mprint\u001b[39;49m\u001b[43m \u001b[49m\u001b[43m(\u001b[49m\u001b[38;5;124;43m\"\u001b[39;49m\u001b[38;5;124;43mavgx = \u001b[39;49m\u001b[38;5;124;43m\"\u001b[39;49m\u001b[43m,\u001b[49m\u001b[43m \u001b[49m\u001b[43mavgx\u001b[49m\u001b[43m)\u001b[49m\n",
      "\u001b[0;31mTypeError\u001b[0m: 'tuple' object is not callable"
     ]
    }
   ],
   "source": [
    "import numpy as np\n",
    "\n",
    "np.array([0.9,0.95,1.1,1.3,1.4])\n",
    "avgx = np.average(avg)\n",
    "print (\"avgx = \", avgx)"
   ]
  },
  {
   "cell_type": "code",
   "execution_count": null,
   "id": "2915e1f4",
   "metadata": {},
   "outputs": [],
   "source": []
  }
 ],
 "metadata": {
  "kernelspec": {
   "display_name": "Python 3 (ipykernel)",
   "language": "python",
   "name": "python3"
  },
  "language_info": {
   "codemirror_mode": {
    "name": "ipython",
    "version": 3
   },
   "file_extension": ".py",
   "mimetype": "text/x-python",
   "name": "python",
   "nbconvert_exporter": "python",
   "pygments_lexer": "ipython3",
   "version": "3.9.12"
  }
 },
 "nbformat": 4,
 "nbformat_minor": 5
}
